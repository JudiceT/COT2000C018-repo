ive made changes to two files
